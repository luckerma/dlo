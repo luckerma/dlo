{
 "cells": [
  {
   "cell_type": "code",
   "execution_count": 412,
   "metadata": {},
   "outputs": [],
   "source": [
    "from pathlib import Path\n",
    "\n",
    "import torch\n",
    "import torch.nn as nn\n",
    "import torch.nn.functional as F\n",
    "import torch.optim as optim\n",
    "import torchvision.transforms as transforms\n",
    "from torch import Tensor\n",
    "from torch.utils.data import DataLoader\n",
    "from torchsummary import summary\n",
    "from torchvision import datasets\n",
    "from tqdm import tqdm"
   ]
  },
  {
   "cell_type": "code",
   "execution_count": 413,
   "metadata": {},
   "outputs": [],
   "source": [
    "def get_device() -> torch.device:\n",
    "    if torch.cuda.is_available():\n",
    "        device = torch.device(\"cuda\")\n",
    "    elif torch.backends.mps.is_available():\n",
    "        device = torch.device(\"mps\")\n",
    "    else:\n",
    "        device = torch.device(\"cpu\")\n",
    "    x = torch.ones(1, device=device)\n",
    "\n",
    "    return device"
   ]
  },
  {
   "cell_type": "code",
   "execution_count": 414,
   "metadata": {},
   "outputs": [
    {
     "name": "stdout",
     "output_type": "stream",
     "text": [
      "Working directory: /Users/luca/Documents/GitRepos/dlo/tutorials\n"
     ]
    }
   ],
   "source": [
    "ROOT = Path().resolve()\n",
    "print(f\"Working directory: {ROOT}\")"
   ]
  },
  {
   "cell_type": "code",
   "execution_count": 415,
   "metadata": {},
   "outputs": [
    {
     "name": "stdout",
     "output_type": "stream",
     "text": [
      "device: mps\n"
     ]
    }
   ],
   "source": [
    "device = get_device()\n",
    "print(f\"device: {device}\")"
   ]
  },
  {
   "cell_type": "code",
   "execution_count": null,
   "metadata": {},
   "outputs": [
    {
     "name": "stdout",
     "output_type": "stream",
     "text": [
      "dataset_train: Dataset MNIST\n",
      "    Number of datapoints: 60000\n",
      "    Root location: /Users/luca/Documents/GitRepos/dlo/tutorials\n",
      "    Split: Train\n",
      "    StandardTransform\n",
      "Transform: Compose(\n",
      "               Resize(size=(28, 28), interpolation=bilinear, max_size=None, antialias=True)\n",
      "               ToTensor()\n",
      "               Lambda()\n",
      "           )\n",
      "dataset_test: Dataset MNIST\n",
      "    Number of datapoints: 10000\n",
      "    Root location: /Users/luca/Documents/GitRepos/dlo/tutorials\n",
      "    Split: Test\n",
      "    StandardTransform\n",
      "Transform: Compose(\n",
      "               Resize(size=(28, 28), interpolation=bilinear, max_size=None, antialias=True)\n",
      "               ToTensor()\n",
      "               Lambda()\n",
      "           )\n",
      "dataloader_train: <torch.utils.data.dataloader.DataLoader object at 0x17cc4fb50>\n",
      "dataloader_test: <torch.utils.data.dataloader.DataLoader object at 0x17cc4fd50>\n",
      "len(dataset_train): 60000\n",
      "len(dataset_test): 10000\n",
      "classes: ['0 - zero', '1 - one', '2 - two', '3 - three', '4 - four', '5 - five', '6 - six', '7 - seven', '8 - eight', '9 - nine']\n"
     ]
    }
   ],
   "source": [
    "BATCH_SIZE = 64\n",
    "\n",
    "dataset_transform = transforms.Compose(\n",
    "    [\n",
    "        # Resize to 28x28\n",
    "        transforms.Resize((28, 28)),\n",
    "        # Normalize to [0, 1]\n",
    "        transforms.ToTensor(),\n",
    "        # Flatten 2D image to 1D vector\n",
    "        transforms.Lambda(lambda x: x.view(-1)),\n",
    "    ]\n",
    ")\n",
    "\n",
    "# Initialize datasets\n",
    "dataset_train = datasets.MNIST(\n",
    "    root=\"images\" / ROOT,\n",
    "    train=True,\n",
    "    download=True,\n",
    "    transform=dataset_transform,\n",
    ")\n",
    "dataset_test = datasets.MNIST(\n",
    "    root=\"images\" / ROOT,\n",
    "    train=False,\n",
    "    download=True,\n",
    "    transform=dataset_transform,\n",
    ")\n",
    "\n",
    "# Initialize dataloaders\n",
    "dataloader_train = DataLoader(\n",
    "    dataset=dataset_train,\n",
    "    batch_size=BATCH_SIZE,\n",
    "    shuffle=True,\n",
    ")\n",
    "dataloader_test = DataLoader(\n",
    "    dataset=dataset_test,\n",
    "    batch_size=BATCH_SIZE,\n",
    "    shuffle=False,\n",
    ")\n",
    "\n",
    "print(f\"dataset_train: {dataset_train}\")\n",
    "print(f\"dataset_test: {dataset_test}\")\n",
    "\n",
    "print(f\"dataloader_train: {dataloader_train}\")\n",
    "print(f\"dataloader_test: {dataloader_test}\")\n",
    "\n",
    "print(f\"len(dataset_train): {len(dataset_train)}\")\n",
    "print(f\"len(dataset_test): {len(dataset_test)}\")\n",
    "\n",
    "print(f\"classes: {dataset_train.classes}\")"
   ]
  },
  {
   "cell_type": "code",
   "execution_count": 417,
   "metadata": {},
   "outputs": [
    {
     "name": "stdout",
     "output_type": "stream",
     "text": [
      "model: Model(\n",
      "  (fc1): Linear(in_features=784, out_features=128, bias=True)\n",
      "  (fc2): Linear(in_features=128, out_features=64, bias=True)\n",
      "  (fc3): Linear(in_features=64, out_features=10, bias=True)\n",
      ")\n"
     ]
    }
   ],
   "source": [
    "# Custom model\n",
    "class Model(nn.Module):\n",
    "    def __init__(self):\n",
    "        super(Model, self).__init__()\n",
    "\n",
    "        self.fc1 = nn.Linear(1 * 28 * 28, 128)  # C x H x W\n",
    "        self.fc2 = nn.Linear(self.fc1.out_features, 64)\n",
    "        self.fc3 = nn.Linear(self.fc2.out_features, len(dataset_train.classes))\n",
    "\n",
    "    def forward(self, x: Tensor) -> Tensor:\n",
    "        x = F.relu(self.fc1(x))\n",
    "        x = F.relu(self.fc2(x))\n",
    "        x = self.fc3(x)\n",
    "\n",
    "        return x\n",
    "\n",
    "\n",
    "model = Model().to(device)\n",
    "print(f\"model: {model}\")"
   ]
  },
  {
   "cell_type": "code",
   "execution_count": 418,
   "metadata": {},
   "outputs": [
    {
     "name": "stdout",
     "output_type": "stream",
     "text": [
      "----------------------------------------------------------------\n",
      "        Layer (type)               Output Shape         Param #\n",
      "================================================================\n",
      "            Linear-1                  [-1, 128]         100,480\n",
      "            Linear-2                   [-1, 64]           8,256\n",
      "            Linear-3                   [-1, 10]             650\n",
      "================================================================\n",
      "Total params: 109,386\n",
      "Trainable params: 109,386\n",
      "Non-trainable params: 0\n",
      "----------------------------------------------------------------\n",
      "Input size (MB): 0.00\n",
      "Forward/backward pass size (MB): 0.00\n",
      "Params size (MB): 0.42\n",
      "Estimated Total Size (MB): 0.42\n",
      "----------------------------------------------------------------\n",
      "mps:0\n"
     ]
    }
   ],
   "source": [
    "# Summary\n",
    "summary(model.to(\"cpu\"), (model.fc1.in_features,))\n",
    "model = model.to(device)\n",
    "print(next(model.parameters()).device)"
   ]
  },
  {
   "cell_type": "code",
   "execution_count": 419,
   "metadata": {},
   "outputs": [
    {
     "name": "stdout",
     "output_type": "stream",
     "text": [
      "optimizer: AdamW (\n",
      "Parameter Group 0\n",
      "    amsgrad: False\n",
      "    betas: (0.9, 0.999)\n",
      "    capturable: False\n",
      "    differentiable: False\n",
      "    eps: 1e-08\n",
      "    foreach: None\n",
      "    fused: None\n",
      "    lr: 0.01\n",
      "    maximize: False\n",
      "    weight_decay: 0.01\n",
      ")\n",
      "{'params': [Parameter containing:\n",
      "tensor([[-0.0209,  0.0355, -0.0357,  ...,  0.0305,  0.0037,  0.0237],\n",
      "        [ 0.0254, -0.0068, -0.0073,  ...,  0.0167, -0.0259, -0.0133],\n",
      "        [-0.0105, -0.0237, -0.0241,  ...,  0.0346,  0.0077, -0.0248],\n",
      "        ...,\n",
      "        [-0.0174, -0.0125, -0.0073,  ...,  0.0302,  0.0335,  0.0163],\n",
      "        [-0.0221,  0.0013,  0.0259,  ...,  0.0345, -0.0268, -0.0013],\n",
      "        [-0.0228, -0.0354,  0.0195,  ..., -0.0144, -0.0228, -0.0277]],\n",
      "       device='mps:0', requires_grad=True), Parameter containing:\n",
      "tensor([-0.0259, -0.0275, -0.0119,  0.0087, -0.0148,  0.0341,  0.0120,  0.0151,\n",
      "         0.0188,  0.0048, -0.0315,  0.0068, -0.0018,  0.0087, -0.0282,  0.0262,\n",
      "        -0.0211,  0.0355,  0.0186, -0.0198, -0.0285, -0.0044,  0.0023,  0.0340,\n",
      "         0.0244,  0.0215, -0.0044, -0.0008,  0.0120,  0.0297,  0.0296, -0.0182,\n",
      "         0.0186, -0.0238, -0.0118,  0.0262,  0.0161,  0.0172,  0.0046, -0.0094,\n",
      "         0.0247, -0.0288, -0.0167, -0.0099, -0.0048, -0.0066, -0.0069,  0.0167,\n",
      "        -0.0325, -0.0240,  0.0100, -0.0204, -0.0274, -0.0144,  0.0154,  0.0076,\n",
      "         0.0177, -0.0055,  0.0324, -0.0039, -0.0096, -0.0354,  0.0326,  0.0344,\n",
      "        -0.0091,  0.0338,  0.0324,  0.0343, -0.0078,  0.0067,  0.0028, -0.0182,\n",
      "         0.0090,  0.0167, -0.0249, -0.0148, -0.0249,  0.0287, -0.0300, -0.0132,\n",
      "        -0.0143, -0.0104,  0.0234,  0.0178,  0.0096,  0.0165, -0.0038, -0.0178,\n",
      "        -0.0141, -0.0137,  0.0313,  0.0136, -0.0054,  0.0351, -0.0342,  0.0230,\n",
      "        -0.0069,  0.0288,  0.0290,  0.0085,  0.0170,  0.0319,  0.0319, -0.0024,\n",
      "        -0.0128,  0.0310,  0.0219,  0.0238,  0.0005,  0.0347, -0.0204,  0.0298,\n",
      "         0.0047,  0.0178, -0.0124, -0.0038,  0.0085,  0.0264, -0.0149, -0.0209,\n",
      "        -0.0330,  0.0225,  0.0271,  0.0275, -0.0283, -0.0161,  0.0058, -0.0062],\n",
      "       device='mps:0', requires_grad=True), Parameter containing:\n",
      "tensor([[ 0.0532,  0.0102,  0.0759,  ..., -0.0493,  0.0261,  0.0360],\n",
      "        [ 0.0400, -0.0268, -0.0240,  ..., -0.0139,  0.0103,  0.0457],\n",
      "        [ 0.0296,  0.0260,  0.0381,  ..., -0.0364,  0.0385, -0.0804],\n",
      "        ...,\n",
      "        [-0.0544,  0.0012,  0.0144,  ...,  0.0506,  0.0593,  0.0531],\n",
      "        [-0.0328, -0.0301, -0.0836,  ...,  0.0403, -0.0098,  0.0130],\n",
      "        [ 0.0494,  0.0825, -0.0458,  ...,  0.0032,  0.0418, -0.0450]],\n",
      "       device='mps:0', requires_grad=True), Parameter containing:\n",
      "tensor([ 0.0846, -0.0485,  0.0198,  0.0359, -0.0179, -0.0181, -0.0045,  0.0806,\n",
      "        -0.0300,  0.0783,  0.0097,  0.0477, -0.0546, -0.0189,  0.0468, -0.0454,\n",
      "        -0.0746, -0.0474,  0.0483, -0.0543,  0.0794,  0.0801, -0.0317, -0.0696,\n",
      "        -0.0155,  0.0421, -0.0112,  0.0056, -0.0565,  0.0739, -0.0504,  0.0095,\n",
      "        -0.0728, -0.0541,  0.0635, -0.0714,  0.0336, -0.0655, -0.0230, -0.0426,\n",
      "         0.0077,  0.0393, -0.0367,  0.0003, -0.0119,  0.0244,  0.0110,  0.0109,\n",
      "        -0.0440, -0.0621, -0.0291,  0.0203,  0.0132, -0.0301,  0.0354, -0.0837,\n",
      "        -0.0587,  0.0692,  0.0274,  0.0002, -0.0289,  0.0756, -0.0205, -0.0792],\n",
      "       device='mps:0', requires_grad=True), Parameter containing:\n",
      "tensor([[-0.0397,  0.0733, -0.1086, -0.1018, -0.0601,  0.0785,  0.0228, -0.1249,\n",
      "          0.0867,  0.0856, -0.0475, -0.0065, -0.0930,  0.0534, -0.0704, -0.1087,\n",
      "          0.1127,  0.0638,  0.0304, -0.0432,  0.0005,  0.0382,  0.1001,  0.0716,\n",
      "         -0.0258, -0.1163,  0.1081,  0.0298, -0.1171,  0.0472,  0.0288, -0.0738,\n",
      "         -0.1231,  0.0919, -0.0480, -0.0963, -0.1206, -0.0085,  0.0999, -0.0582,\n",
      "          0.0164, -0.0234, -0.0643,  0.0539, -0.1230, -0.1062, -0.0195,  0.0732,\n",
      "          0.0840,  0.0440,  0.0517,  0.0487, -0.0120,  0.0760, -0.0402,  0.0514,\n",
      "         -0.0957,  0.0054,  0.1149, -0.0571,  0.1027,  0.0413, -0.0422, -0.1108],\n",
      "        [ 0.0410,  0.0041,  0.0289,  0.0268,  0.0348, -0.0730,  0.0558,  0.1139,\n",
      "          0.0442,  0.0520, -0.1208, -0.0456, -0.0817, -0.0910,  0.0103,  0.1175,\n",
      "         -0.0046, -0.0556, -0.0014, -0.0761,  0.0315, -0.0983,  0.0110, -0.0005,\n",
      "         -0.0206, -0.0687,  0.0133,  0.0180, -0.0210, -0.0655, -0.0662, -0.0013,\n",
      "          0.0790, -0.1225, -0.0865,  0.0390,  0.0368,  0.0583, -0.0309,  0.0370,\n",
      "         -0.0873,  0.0519,  0.0511, -0.0372, -0.0352,  0.0929, -0.0859,  0.0565,\n",
      "         -0.0155,  0.0151,  0.0115,  0.0093,  0.0223,  0.0271, -0.0269, -0.0016,\n",
      "         -0.0367, -0.0554, -0.1154, -0.0368, -0.0755,  0.0637, -0.0557,  0.0587],\n",
      "        [ 0.0196,  0.0106,  0.0120, -0.0688, -0.1103, -0.1093,  0.0405, -0.0904,\n",
      "          0.1208,  0.0785, -0.0273,  0.0787, -0.1070, -0.0145,  0.0331,  0.0898,\n",
      "         -0.0556,  0.0625,  0.0811,  0.0094, -0.0535, -0.0833,  0.0445, -0.1063,\n",
      "          0.0583,  0.0284,  0.1025, -0.0478,  0.0448, -0.0817,  0.1153, -0.0866,\n",
      "          0.0931, -0.0999, -0.0766, -0.0140,  0.0132,  0.1154,  0.0245, -0.0327,\n",
      "         -0.1066, -0.0881,  0.0253,  0.0954, -0.0741, -0.0604, -0.0346, -0.1086,\n",
      "         -0.0471, -0.1182,  0.1185,  0.0866,  0.0243, -0.0241, -0.1015, -0.1089,\n",
      "          0.0758,  0.0929, -0.1134,  0.1065, -0.0615,  0.0017, -0.0346, -0.0445],\n",
      "        [ 0.0801, -0.0350,  0.0519, -0.1027,  0.0226,  0.0574, -0.0843, -0.1064,\n",
      "          0.0906,  0.0514,  0.0916,  0.0604, -0.0558,  0.0078, -0.0252, -0.0913,\n",
      "         -0.1095,  0.0391, -0.0719,  0.1102,  0.0678,  0.0275,  0.0446, -0.1179,\n",
      "          0.0870, -0.0242,  0.1167, -0.0782,  0.0164, -0.0595, -0.0989,  0.1142,\n",
      "         -0.0781, -0.0789, -0.1204,  0.1122, -0.0827,  0.0522,  0.0093, -0.1124,\n",
      "         -0.0565, -0.0634,  0.1089,  0.1250, -0.1137, -0.0879, -0.0071, -0.0717,\n",
      "          0.1090,  0.1091, -0.1119,  0.0120,  0.0127, -0.0128,  0.0065,  0.0171,\n",
      "         -0.0409,  0.0114,  0.0286,  0.0286, -0.0326,  0.0630,  0.0399, -0.1156],\n",
      "        [-0.0873,  0.0958, -0.0972, -0.0883, -0.0243,  0.0680, -0.0193, -0.0258,\n",
      "         -0.1205,  0.0700, -0.0178,  0.0015,  0.1105,  0.0096,  0.0205, -0.0305,\n",
      "         -0.0553, -0.0590,  0.1157,  0.1004,  0.1198,  0.0253,  0.0499, -0.0864,\n",
      "         -0.0192, -0.0607,  0.0240,  0.0864, -0.0213, -0.0017,  0.1141,  0.1094,\n",
      "          0.0247,  0.0666, -0.0289, -0.0009, -0.0053,  0.0021,  0.0120, -0.0574,\n",
      "          0.1004, -0.0260, -0.0659, -0.1146, -0.0762,  0.0964,  0.0707, -0.1235,\n",
      "         -0.0746,  0.0529, -0.1017, -0.0169, -0.1139, -0.1097, -0.0484,  0.0990,\n",
      "          0.0046, -0.0702,  0.0483,  0.1069, -0.0555,  0.0904, -0.0920, -0.0114],\n",
      "        [-0.0537, -0.0071,  0.0214, -0.0851,  0.1131, -0.1181, -0.0313,  0.0962,\n",
      "         -0.1099, -0.0818, -0.0356,  0.0208, -0.0398, -0.0784,  0.0331,  0.0250,\n",
      "          0.1212, -0.0437,  0.0066, -0.0730,  0.1130,  0.0247,  0.0953, -0.1139,\n",
      "         -0.1204, -0.0249, -0.0212,  0.0391, -0.1144, -0.0382,  0.0271, -0.0609,\n",
      "          0.0160,  0.0375, -0.0710, -0.0314,  0.1157,  0.0469,  0.0524,  0.0676,\n",
      "          0.0375, -0.0090, -0.1024, -0.0680, -0.1091,  0.0990, -0.1213, -0.0874,\n",
      "         -0.0663, -0.0937, -0.0194,  0.0239,  0.0378, -0.0842,  0.0303,  0.1098,\n",
      "         -0.0879,  0.0897, -0.0701, -0.0861, -0.0759,  0.0259,  0.0251,  0.0005],\n",
      "        [-0.0282, -0.0846,  0.0218, -0.0342, -0.0969,  0.1106, -0.0818,  0.0943,\n",
      "         -0.1220, -0.1135, -0.1037, -0.0057, -0.0087, -0.1047,  0.0563,  0.0477,\n",
      "          0.0505,  0.0765,  0.0226, -0.0860, -0.0836,  0.0259, -0.0921,  0.0208,\n",
      "         -0.1027,  0.1019, -0.0895, -0.0525,  0.0639,  0.0248, -0.0999,  0.0241,\n",
      "         -0.0532,  0.1174,  0.1096, -0.0020,  0.0614,  0.0181,  0.0437,  0.1190,\n",
      "         -0.1116,  0.0590, -0.0047, -0.0276,  0.0028,  0.0477, -0.0692,  0.0774,\n",
      "          0.0823,  0.0768,  0.1034,  0.1199, -0.1192,  0.1205, -0.0110, -0.0609,\n",
      "          0.0739,  0.0833, -0.0376,  0.1148, -0.0844,  0.0178, -0.0003,  0.0383],\n",
      "        [ 0.0925, -0.1003, -0.0061, -0.0371, -0.0139,  0.0502, -0.0688,  0.0350,\n",
      "          0.1218, -0.0019, -0.0063, -0.0798,  0.1244, -0.0521,  0.1128,  0.0853,\n",
      "         -0.0118,  0.0822, -0.0235,  0.0706,  0.0380, -0.0577, -0.0761,  0.0745,\n",
      "         -0.1022,  0.1094, -0.0228, -0.0416, -0.0265, -0.0349, -0.0321, -0.1028,\n",
      "          0.0360,  0.0431,  0.1162,  0.0193,  0.0600, -0.1206, -0.0073, -0.0352,\n",
      "          0.0229,  0.0252,  0.0859,  0.0109,  0.0719, -0.0667, -0.0178,  0.1011,\n",
      "          0.0057, -0.0337, -0.0688, -0.0023, -0.0674, -0.1246,  0.0585, -0.1163,\n",
      "         -0.1179, -0.0186, -0.1044, -0.0862, -0.1169, -0.0316,  0.0429,  0.1233],\n",
      "        [-0.1017, -0.1092, -0.0158,  0.0232,  0.0682,  0.0225, -0.0766,  0.0243,\n",
      "         -0.1136,  0.0225, -0.0610, -0.1216,  0.0629, -0.0727,  0.1042,  0.1142,\n",
      "         -0.0835, -0.0360, -0.0307, -0.0343,  0.0133, -0.1169, -0.1017, -0.1134,\n",
      "          0.1073,  0.0923, -0.0693,  0.0147,  0.0868,  0.0324, -0.0339, -0.0051,\n",
      "          0.0369, -0.0112,  0.0975, -0.0341, -0.0942, -0.0740, -0.0968, -0.0876,\n",
      "         -0.0306, -0.0674,  0.0491,  0.1199,  0.1137, -0.1045,  0.1189, -0.0420,\n",
      "         -0.0560,  0.0610, -0.0984, -0.0672, -0.0186, -0.0873,  0.0759,  0.0760,\n",
      "          0.0110,  0.0845, -0.0308,  0.0696,  0.0699, -0.0937,  0.0046, -0.0837],\n",
      "        [ 0.0199,  0.0727, -0.0108, -0.0864, -0.0278, -0.0081,  0.0152, -0.1111,\n",
      "         -0.0749, -0.0709, -0.0231,  0.0208, -0.0695, -0.0690,  0.0659, -0.0413,\n",
      "          0.1154, -0.0402,  0.1089, -0.1060, -0.1130,  0.0143,  0.1145, -0.0669,\n",
      "         -0.0296,  0.0498,  0.0142, -0.0202, -0.0824,  0.0920,  0.0367, -0.0046,\n",
      "         -0.1054,  0.0989, -0.0746, -0.0398,  0.0360,  0.0587,  0.0683, -0.0695,\n",
      "          0.0973,  0.0586,  0.0251,  0.0095,  0.0166, -0.1083,  0.1069,  0.0402,\n",
      "         -0.1061, -0.1139,  0.0371,  0.0208,  0.0071,  0.0360, -0.0532,  0.0096,\n",
      "         -0.0824, -0.0131, -0.0105, -0.0229,  0.0906, -0.0896,  0.0504, -0.0384]],\n",
      "       device='mps:0', requires_grad=True), Parameter containing:\n",
      "tensor([ 7.9021e-02,  3.4985e-02, -8.0103e-02,  3.1171e-02, -1.2477e-01,\n",
      "        -1.1136e-01, -1.0298e-02, -1.1814e-04, -1.0106e-01,  7.0083e-02],\n",
      "       device='mps:0', requires_grad=True)], 'lr': 0.01, 'betas': (0.9, 0.999), 'eps': 1e-08, 'weight_decay': 0.01, 'amsgrad': False, 'foreach': None, 'maximize': False, 'capturable': False, 'differentiable': False, 'fused': None}\n",
      "Available optimizers: ['Adafactor', 'Adadelta', 'Adagrad', 'Adam', 'Adamax', 'AdamW', 'ASGD', 'LBFGS', 'lr_scheduler', 'NAdam', 'Optimizer', 'RAdam', 'RMSprop', 'Rprop', 'SGD', 'SparseAdam', 'swa_utils']\n"
     ]
    }
   ],
   "source": [
    "# Optimizer\n",
    "optimizer = optim.SGD(\n",
    "    model.parameters(),\n",
    "    lr=0.01,\n",
    "    # momentum=0.9,\n",
    "    # nesterov=True,\n",
    ")\n",
    "optimizer = optim.Adagrad(\n",
    "    model.parameters(),\n",
    "    lr=0.01,\n",
    ")\n",
    "optimizer = optim.RMSprop(\n",
    "    model.parameters(),\n",
    "    lr=0.01,\n",
    ")\n",
    "optimizer = optim.AdamW(\n",
    "    model.parameters(),\n",
    "    lr=0.01,\n",
    ")\n",
    "print(f\"optimizer: {optimizer}\")\n",
    "\n",
    "for param_group in optimizer.param_groups:\n",
    "    print(param_group)\n",
    "\n",
    "print(f\"Available optimizers: {torch.optim.__all__}\")"
   ]
  },
  {
   "cell_type": "code",
   "execution_count": 420,
   "metadata": {},
   "outputs": [
    {
     "name": "stdout",
     "output_type": "stream",
     "text": [
      "lr_scheduler: <torch.optim.lr_scheduler.ReduceLROnPlateau object at 0x16a1956e0>\n",
      "Available schedulers: ['LambdaLR', 'MultiplicativeLR', 'StepLR', 'MultiStepLR', 'ConstantLR', 'LinearLR', 'ExponentialLR', 'SequentialLR', 'CosineAnnealingLR', 'ChainedScheduler', 'ReduceLROnPlateau', 'CyclicLR', 'CosineAnnealingWarmRestarts', 'OneCycleLR', 'PolynomialLR', 'LRScheduler']\n"
     ]
    }
   ],
   "source": [
    "# LR scheduler\n",
    "lr_scheduler = optim.lr_scheduler.ReduceLROnPlateau(\n",
    "    optimizer=optimizer,\n",
    ")\n",
    "print(f\"lr_scheduler: {lr_scheduler}\")\n",
    "\n",
    "print(f\"Available schedulers: {torch.optim.lr_scheduler.__all__}\")"
   ]
  },
  {
   "cell_type": "code",
   "execution_count": 421,
   "metadata": {},
   "outputs": [
    {
     "name": "stdout",
     "output_type": "stream",
     "text": [
      "loss_fn: CrossEntropyLoss()\n",
      "Available loss functions: ['L1Loss', 'NLLLoss', 'NLLLoss2d', 'PoissonNLLLoss', 'GaussianNLLLoss', 'KLDivLoss', 'MSELoss', 'BCELoss', 'BCEWithLogitsLoss', 'HingeEmbeddingLoss', 'MultiLabelMarginLoss', 'SmoothL1Loss', 'HuberLoss', 'SoftMarginLoss', 'CrossEntropyLoss', 'MultiLabelSoftMarginLoss', 'CosineEmbeddingLoss', 'MarginRankingLoss', 'MultiMarginLoss', 'TripletMarginLoss', 'TripletMarginWithDistanceLoss', 'CTCLoss']\n"
     ]
    }
   ],
   "source": [
    "# Loss function\n",
    "loss_fn = nn.CrossEntropyLoss()\n",
    "print(f\"loss_fn: {loss_fn}\")\n",
    "\n",
    "print(f\"Available loss functions: {torch.nn.modules.loss.__all__}\")"
   ]
  },
  {
   "cell_type": "code",
   "execution_count": null,
   "metadata": {},
   "outputs": [
    {
     "name": "stdout",
     "output_type": "stream",
     "text": [
      "\n",
      "Epoch 1/10\n"
     ]
    },
    {
     "name": "stderr",
     "output_type": "stream",
     "text": [
      "                                                            \r"
     ]
    },
    {
     "name": "stdout",
     "output_type": "stream",
     "text": [
      "Train Loss: 0.2483 | Accuracy: 92.53%\n",
      "New learning rate: 0.009000\n",
      "\n",
      "Epoch 2/10\n"
     ]
    },
    {
     "name": "stderr",
     "output_type": "stream",
     "text": [
      "                                                            \r"
     ]
    },
    {
     "name": "stdout",
     "output_type": "stream",
     "text": [
      "Train Loss: 0.1309 | Accuracy: 96.10%\n",
      "\n",
      "Epoch 3/10\n"
     ]
    },
    {
     "name": "stderr",
     "output_type": "stream",
     "text": [
      "                                                            \r"
     ]
    },
    {
     "name": "stdout",
     "output_type": "stream",
     "text": [
      "Train Loss: 0.1171 | Accuracy: 96.66%\n",
      "New learning rate: 0.008100\n",
      "\n",
      "Epoch 4/10\n"
     ]
    },
    {
     "name": "stderr",
     "output_type": "stream",
     "text": [
      "                                                            \r"
     ]
    },
    {
     "name": "stdout",
     "output_type": "stream",
     "text": [
      "Train Loss: 0.0924 | Accuracy: 97.22%\n",
      "\n",
      "Epoch 5/10\n"
     ]
    },
    {
     "name": "stderr",
     "output_type": "stream",
     "text": [
      "                                                            \r"
     ]
    },
    {
     "name": "stdout",
     "output_type": "stream",
     "text": [
      "Train Loss: 0.0902 | Accuracy: 97.27%\n",
      "New learning rate: 0.007290\n",
      "\n",
      "Epoch 6/10\n"
     ]
    },
    {
     "name": "stderr",
     "output_type": "stream",
     "text": [
      "                                                            \r"
     ]
    },
    {
     "name": "stdout",
     "output_type": "stream",
     "text": [
      "Train Loss: 0.0725 | Accuracy: 97.86%\n",
      "\n",
      "Epoch 7/10\n"
     ]
    },
    {
     "name": "stderr",
     "output_type": "stream",
     "text": [
      "                                                            \r"
     ]
    },
    {
     "name": "stdout",
     "output_type": "stream",
     "text": [
      "Train Loss: 0.0669 | Accuracy: 98.01%\n",
      "New learning rate: 0.006561\n",
      "\n",
      "Epoch 8/10\n"
     ]
    },
    {
     "name": "stderr",
     "output_type": "stream",
     "text": [
      "                                                            \r"
     ]
    },
    {
     "name": "stdout",
     "output_type": "stream",
     "text": [
      "Train Loss: 0.0583 | Accuracy: 98.24%\n",
      "\n",
      "Epoch 9/10\n"
     ]
    },
    {
     "name": "stderr",
     "output_type": "stream",
     "text": [
      "                                                            \r"
     ]
    },
    {
     "name": "stdout",
     "output_type": "stream",
     "text": [
      "Train Loss: 0.0605 | Accuracy: 98.19%\n",
      "New learning rate: 0.005905\n",
      "\n",
      "Epoch 10/10\n"
     ]
    },
    {
     "name": "stderr",
     "output_type": "stream",
     "text": [
      "                                                            "
     ]
    },
    {
     "name": "stdout",
     "output_type": "stream",
     "text": [
      "Train Loss: 0.0427 | Accuracy: 98.72%\n"
     ]
    },
    {
     "name": "stderr",
     "output_type": "stream",
     "text": [
      "\r"
     ]
    }
   ],
   "source": [
    "EPOCHS = 10\n",
    "\n",
    "for epoch in range(EPOCHS):\n",
    "    print(f\"\\nEpoch {epoch+1}/{EPOCHS}\")\n",
    "    model.train()\n",
    "\n",
    "    running_train_loss: float = 0.0\n",
    "    correct: int = 0\n",
    "    total: int = 0\n",
    "    for images, labels in tqdm(dataloader_train, desc=\"Training\", leave=False):\n",
    "        images: Tensor = images.to(device)\n",
    "        labels: Tensor = labels.to(device).long()\n",
    "\n",
    "        optimizer.zero_grad()\n",
    "        outputs: Tensor = model(images)  # shape: [BATCH_SIZE, 10]\n",
    "\n",
    "        loss: Tensor = loss_fn(outputs, labels)\n",
    "        loss.backward()\n",
    "        optimizer.step()\n",
    "\n",
    "        running_train_loss += loss.item()\n",
    "\n",
    "        # Calculate accuracy\n",
    "        _, predicted = torch.max(outputs, dim=1)\n",
    "        correct += (predicted == labels).sum().item()\n",
    "        total += labels.size(0)\n",
    "\n",
    "    avg_train_loss = running_train_loss / len(dataloader_train)\n",
    "    accuracy = correct / total * 100\n",
    "\n",
    "    lr_scheduler.step(avg_train_loss)\n",
    "\n",
    "    print(f\"Train Loss: {avg_train_loss:.4f} | Accuracy: {accuracy:.2f}%\")\n",
    "\n",
    "    # Manually adjust learning rate\n",
    "    if epoch % 2 == 0:\n",
    "        for param_group in optimizer.param_groups:\n",
    "            param_group[\"lr\"] *= 0.9\n",
    "            print(f\"New learning rate: {param_group['lr']:.6f}\")"
   ]
  }
 ],
 "metadata": {
  "kernelspec": {
   "display_name": "biomasse",
   "language": "python",
   "name": "python3"
  },
  "language_info": {
   "codemirror_mode": {
    "name": "ipython",
    "version": 3
   },
   "file_extension": ".py",
   "mimetype": "text/x-python",
   "name": "python",
   "nbconvert_exporter": "python",
   "pygments_lexer": "ipython3",
   "version": "3.13.2"
  }
 },
 "nbformat": 4,
 "nbformat_minor": 2
}
