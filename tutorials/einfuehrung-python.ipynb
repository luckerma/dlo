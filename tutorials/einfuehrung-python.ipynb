{
 "cells": [
  {
   "cell_type": "markdown",
   "id": "10b11c78",
   "metadata": {},
   "source": [
    "# Einleitung"
   ]
  },
  {
   "cell_type": "markdown",
   "id": "4f826edd",
   "metadata": {},
   "source": [
    "## Notebooks"
   ]
  },
  {
   "cell_type": "markdown",
   "id": "8270201a",
   "metadata": {},
   "source": [
    "- Das Jupyter-Notebook ist eine Open-Source-Webanwendung, mit der Sie Dokumente erstellen und freigeben können, die Live-Code, Gleichungen, Visualisierungen und Text enthalten.\n",
    "\n",
    "\n",
    "- **Kommentare** in Python können entweder **einzeilige oder mehrzeilige Kommentare** sein. Ein mehrzeiliger Kommentar wird mit ''' aufgerufen und auch mit ''' abgeschlossen. Für einen einzeiligen Kommentar wird das Rautenzeichen # verwendet. \n",
    "\n",
    "- Die verschiedenen Codeschnipsel und Markdown-Texte werden in **\"Zellen\"** gespeichert. Im Menü \"Cell\" können Sie wählen, ob alle Zellen oder nur eine ausgewählte Zelle ausgeführt werden soll. Um nur die ausgewählte Zelle auszuführen, können Sie auch die **Umschalttaste\" gedrückt halten und die Eingabetaste \"** drücken. Stellen Sie sicher, dass alle Zellen, die Ihre Variablen definieren, mindestens einmal ausgeführt wurden.\n",
    "\n",
    "\n",
    "- Zwischenergebnisse gehen nicht verloren, so dass Sie den Code ändern und erneut ausführen können, ohne alles erneut ausführen zu müssen.\n",
    "\n",
    "\n",
    "- **Die Zellen werden nacheinander ausgeführt, so dass es wichtig ist, eine gut strukturierte Sammlung von Zellen zu erstellen, die keinen toten Code enthalten, der bei der Ausführung des gesamten Notizbuchs Fehler verursachen könnte**"
   ]
  },
  {
   "cell_type": "markdown",
   "id": "510b90b9",
   "metadata": {},
   "source": [
    "# Praktische Übungen"
   ]
  },
  {
   "cell_type": "markdown",
   "id": "f8a13e9b",
   "metadata": {},
   "source": [
    "## Erste Schritte"
   ]
  },
  {
   "cell_type": "code",
   "execution_count": null,
   "id": "01f9c3af",
   "metadata": {},
   "outputs": [],
   "source": [
    "# Ihre erste Python-Anweisung ausführen\n",
    "print(\"Hello world!\")"
   ]
  },
  {
   "cell_type": "markdown",
   "id": "1763c87c",
   "metadata": {},
   "source": [
    "### Variablen"
   ]
  },
  {
   "cell_type": "markdown",
   "id": "78f672db",
   "metadata": {},
   "source": [
    "Das Gleichheitszeichen (=) ermöglicht es Ihnen, Variablen zu definieren. Der Variablentyp wird durch den zugewiesenen Wert festgelegt.\n",
    "\n",
    "Variablennamen beginnen mit einem alphabetischen Zeichen oder einem Unterstrich (\"\\_\") und können sowohl alphanumerische Zeichen als auch zusätzliche Unterstriche enthalten. \n",
    "\n",
    "Es gibt noch einige Wörter/Schlüsselwörter, die von Python reserviert sind:\n",
    "+ and, as, assert, break, class, continue, def, del, elif, else, except, \n",
    "+ exec, finally, for, from, global, if, import, in, is, lambda, not, or,\n",
    "+ pass, print, raise, return, try, while, with, yield\n",
    "\n",
    "Der Versuch, eine Variable mit einem Schlüsselwort zu definieren, führt zu einem Syntaxfehler."
   ]
  },
  {
   "cell_type": "code",
   "execution_count": null,
   "id": "281b0b7f",
   "metadata": {},
   "outputs": [],
   "source": [
    "a = 10\n",
    "#and = 20\n",
    "print(a)\n",
    "print(type(a))"
   ]
  },
  {
   "cell_type": "markdown",
   "id": "4d5cc1a0",
   "metadata": {},
   "source": [
    "## Numerische Typen\n",
    "Die Funktion type() gibt den Typ einer Variablen zurück"
   ]
  },
  {
   "cell_type": "markdown",
   "id": "0cb902c7",
   "metadata": {},
   "source": [
    "### Integer"
   ]
  },
  {
   "cell_type": "code",
   "execution_count": null,
   "id": "0d13372d",
   "metadata": {},
   "outputs": [],
   "source": [
    "print(1 + 1)\n",
    "a = 4\n",
    "type(a)"
   ]
  },
  {
   "cell_type": "markdown",
   "id": "ccc9615f",
   "metadata": {},
   "source": [
    "### Floats"
   ]
  },
  {
   "cell_type": "code",
   "execution_count": null,
   "id": "3597fb41",
   "metadata": {},
   "outputs": [],
   "source": [
    "print(13/6)\n",
    "c = 2.1\n",
    "type(c)  "
   ]
  },
  {
   "cell_type": "markdown",
   "id": "88e23211",
   "metadata": {},
   "source": [
    "### Complex"
   ]
  },
  {
   "cell_type": "code",
   "execution_count": null,
   "id": "eea7ddd6",
   "metadata": {},
   "outputs": [],
   "source": [
    "a = 1.5 + 0.5j\n",
    "# Kombinieren von Zeichenketten und Variablen in der \"Print\"-funktion\n",
    "\n",
    "print(\"real part:\",a.real)\n",
    "print(\"imaginary part:\",a.imag)\n",
    "print(\"type:\",type(1. + 0.5j))"
   ]
  },
  {
   "cell_type": "markdown",
   "id": "6d75aadc",
   "metadata": {},
   "source": [
    "### Boolean Type"
   ]
  },
  {
   "cell_type": "code",
   "execution_count": null,
   "id": "b7053e9f",
   "metadata": {},
   "outputs": [],
   "source": [
    "#print(3 > 4)\n",
    "test = (3 > 4)\n",
    "print(test)\n",
    "type(test)"
   ]
  },
  {
   "cell_type": "markdown",
   "id": "c2d0b66e",
   "metadata": {},
   "source": [
    "### Grundrechenarten"
   ]
  },
  {
   "cell_type": "code",
   "execution_count": null,
   "id": "4750c8a8",
   "metadata": {},
   "outputs": [],
   "source": [
    "# +, -, *, **, /, % (Modulus, den Rest zurückgeben)\n",
    "print(10**2)\n",
    "print(10 % 3)"
   ]
  },
  {
   "attachments": {},
   "cell_type": "markdown",
   "id": "eb00cfbf",
   "metadata": {},
   "source": [
    "## Containers\n",
    "\n",
    "Python bietet viele effiziente Arten von Containern, in denen Sammlungen von Objekten gespeichert werden können.\n",
    "\n",
    "- Liste ist eine eingebaute Datenstruktur in Python. Sie wird als eine Sammlung von Datenpunkten in *eckigen Klammern* dargestellt. Listen können zur Speicherung beliebiger Datentypen oder einer Mischung verschiedener Datentypen verwendet werden. **Listen sind veränderbar, was einer der Gründe ist, warum sie so häufig verwendet werden.**   \n",
    "a = [1,3,5, \"Liste\",3.5]\n",
    "\n",
    "\n",
    "- Ein Tupel ist eine Sammlung von Werten, die durch ein Komma getrennt und in runde Klammern eingeschlossen sind. **Im Gegensatz zu Listen sind Tupel unveränderlich**. Die Unveränderlichkeit kann als das Erkennungsmerkmal von Tupeln angesehen werden.                                         \n",
    "b = (1,2,5, \"Tupel\",3.5)\n",
    "\n",
    "\n",
    "- Eine Menge ist eine ungeordnete Sammlung eindeutiger unveränderlicher Objekte, die durch ein Komma getrennt und in geschweifte Klammern eingeschlossen sind. **Eine Menge enthält eindeutige Elemente. Obwohl Mengen veränderbar sind, müssen die Elemente von Mengen unveränderlich sein.** Den Elementen einer Menge ist keine Reihenfolge zugeordnet. Sie unterstützen daher keine Indizierung oder Aufteilung, wie wir es bei Listen tun.                                     \n",
    "c = {1,2,5, \"Menge\", 3.5} "
   ]
  },
  {
   "cell_type": "markdown",
   "id": "9a397d19",
   "metadata": {},
   "source": [
    "### Listen\n",
    "Eine Liste ist eine geordnete Sammlung von Objekten, die verschiedene Typen haben können. Zum Beispiel:"
   ]
  },
  {
   "cell_type": "code",
   "execution_count": null,
   "id": "138358a9",
   "metadata": {},
   "outputs": [],
   "source": [
    "colors = ['red', 'blue', 'green', 'black', 'white']\n",
    "\n",
    "print(type(colors))  \n",
    "colors"
   ]
  },
  {
   "cell_type": "code",
   "execution_count": null,
   "id": "8194370e",
   "metadata": {},
   "outputs": [],
   "source": [
    "#Indexing (beginnt bei 0, nicht bei 1 (wie in Matlab))\n",
    "print(colors)\n",
    "print(colors[2])"
   ]
  },
  {
   "cell_type": "code",
   "execution_count": null,
   "id": "2b6c0992",
   "metadata": {},
   "outputs": [],
   "source": [
    "#Zählen vom Ende an\n",
    "print(colors)\n",
    "print(colors[-1])"
   ]
  },
  {
   "cell_type": "code",
   "execution_count": null,
   "id": "ea510415",
   "metadata": {},
   "outputs": [],
   "source": [
    "#Slicing (Schneiden)\n",
    "print(colors)\n",
    "print(\"Erste 3 Einträge [0,1,2]\", colors[:3])\n",
    "print(\"Einträge von 4 bis Ende [3,4]\",colors[3:])\n",
    "print(\"Jedes zweite Element beginnend mit 0 [0,2,4]\",colors[::2]) # (jedes n Element)"
   ]
  },
  {
   "cell_type": "code",
   "execution_count": null,
   "id": "9a2f755f",
   "metadata": {},
   "outputs": [],
   "source": [
    "#Modify (verändern)\n",
    "print(colors)\n",
    "colors.insert(0, \"yellow\")\n",
    "print(colors)\n",
    "colors[0] = \"grey\"\n",
    "print(colors)"
   ]
  },
  {
   "cell_type": "code",
   "execution_count": null,
   "id": "747b818a",
   "metadata": {},
   "outputs": [],
   "source": [
    "#Modify (verändern)\n",
    "print(colors)\n",
    "colors[2:4] = ['gray', 'purple']\n",
    "print(colors)"
   ]
  },
  {
   "cell_type": "code",
   "execution_count": null,
   "id": "d38e920b",
   "metadata": {},
   "outputs": [],
   "source": [
    "#Append (anhängen)\n",
    "print(colors)\n",
    "colors.append(\"pink\")\n",
    "print(colors)"
   ]
  },
  {
   "cell_type": "code",
   "execution_count": null,
   "id": "267fddab",
   "metadata": {},
   "outputs": [],
   "source": [
    "#Remove (entfernen)\n",
    "print(colors)\n",
    "colors.remove(\"pink\")\n",
    "#colors.remove(colors[-1])\n",
    "print(colors)"
   ]
  },
  {
   "cell_type": "code",
   "execution_count": null,
   "id": "66780884",
   "metadata": {},
   "outputs": [],
   "source": [
    "# verschiedene Typen\n",
    "colors[0] = 1.5\n",
    "print(colors)"
   ]
  },
  {
   "cell_type": "code",
   "execution_count": null,
   "id": "17524f18",
   "metadata": {},
   "outputs": [],
   "source": [
    "#sorting (sortieren)\n",
    "c = [\"green\",\"blue\",\"red\"]\n",
    "print(c)\n",
    "c.sort()#reverse=True)\n",
    "print(c)"
   ]
  },
  {
   "cell_type": "markdown",
   "id": "78836d5f",
   "metadata": {},
   "source": [
    "<div class=\"alert alert-block alert-warning\">\n",
    "   Aufgabe: Bitte drucken Sie das zweite und dritte Element der folgenden Liste aus"
   ]
  },
  {
   "cell_type": "code",
   "execution_count": null,
   "id": "cebe4857",
   "metadata": {},
   "outputs": [],
   "source": [
    "test_list = [2, 2, 'hey', 'ho']\n",
    "\n",
    "## in beiden Fällen ist es möglich, den Doppelpunkt (:) zu verwenden, um einen Indexbereich anzugeben\n",
    "## wie bei test_list[start:end]. Beachten Sie, dass der spätere Index ausgeschlossen ist!\n",
    "\n",
    "print('Erwartet:', [2, 'hey'])"
   ]
  },
  {
   "cell_type": "markdown",
   "id": "c03e00d1",
   "metadata": {},
   "source": [
    "<div class=\"alert alert-block alert-warning\">\n",
    "   Aufgabe: Bitte drucken Sie vom dritten bis zum letzten Element der folgenden Liste"
   ]
  },
  {
   "cell_type": "code",
   "execution_count": null,
   "id": "ec57845d",
   "metadata": {},
   "outputs": [],
   "source": [
    "## Wenn Sie weder Anfang noch Ende angeben, beginnt es beim ersten Element und endet am Ende der Liste/des Tupels.\n",
    "\n",
    "\n",
    "print('Erwartet:', ['hey', 'ho'])"
   ]
  },
  {
   "cell_type": "markdown",
   "id": "af70a563",
   "metadata": {},
   "source": [
    "<div class=\"alert alert-block alert-warning\">\n",
    "  Aufgabe:  Hängen Sie die Zeichenkette \"lets go\" an die folgende Liste an und drucken Sie sie aus"
   ]
  },
  {
   "cell_type": "code",
   "execution_count": null,
   "id": "b8b3e0f6",
   "metadata": {},
   "outputs": [],
   "source": [
    "## Da Listen nicht unveränderlich sind, ist es möglich, zusätzliche Elemente über\n",
    "## die Funktion .append() anzuhängen\n",
    "\n",
    "\n",
    "print('Ein Element hinzugefügt:\\n', test_list)"
   ]
  },
  {
   "cell_type": "markdown",
   "id": "6aaaa183",
   "metadata": {},
   "source": [
    "<div class=\"alert alert-block alert-warning\">\n",
    " Aufgabe: Bitte entfernen Sie beide Vorkommen von '2' in der folgenden Liste und drucken Sie sie aus"
   ]
  },
  {
   "cell_type": "code",
   "execution_count": null,
   "id": "603ef8c8",
   "metadata": {},
   "outputs": [],
   "source": [
    "# es ist auch möglich, Elemente aus der Liste mit der Funktion .remove() zu entfernen\n",
    "## Beachten Sie, dass nur das erste Vorkommen entfernt wird.\n",
    "\n",
    "\n",
    "print('Entfernt beide Zweien:\\n', test_list)"
   ]
  },
  {
   "cell_type": "markdown",
   "id": "159d91a2",
   "metadata": {},
   "source": [
    "<div class=\"alert alert-block alert-warning\">\n",
    " Aufgabe: \n",
    "    \n",
    "- Erstellen Sie eine Liste, die alle Wochentage enthält\n",
    "    - beginne wie folgt und verwende dann die oben gezeigten Funktionen .append() und .insert()\n",
    "    - es gibt einen Eintrag, der nicht dazugehört, entferne ihn! \n",
    "    - Gib dein Ergebnis aus!"
   ]
  },
  {
   "cell_type": "code",
   "execution_count": null,
   "id": "2ec2787e",
   "metadata": {},
   "outputs": [],
   "source": [
    "days_of_the_week = ['monday', 'thursday', 'holiday', 'saturday']\n",
    "\n"
   ]
  },
  {
   "cell_type": "markdown",
   "id": "8f1d917f",
   "metadata": {},
   "source": [
    "**Um alle Methoden zu sehen, die für ein Objekt verfügbar sind, verwenden Sie die Funktion dir().  \n",
    "Die Einträge, die von doppelten Unterstrichen (\\__entry\\__) umgeben sind, sind private Attribute und sollten nicht verwendet werden.**"
   ]
  },
  {
   "cell_type": "code",
   "execution_count": null,
   "id": "1b20d9a5",
   "metadata": {},
   "outputs": [],
   "source": [
    "dir(test_list)"
   ]
  },
  {
   "cell_type": "markdown",
   "id": "a6682e2c",
   "metadata": {},
   "source": [
    "Um zusätzliche Informationen zu diesen Methoden zu erhalten, können Sie die Hilfefunktion verwenden. "
   ]
  },
  {
   "cell_type": "code",
   "execution_count": null,
   "id": "2b8032fc",
   "metadata": {},
   "outputs": [],
   "source": [
    "help(test_list.insert)"
   ]
  },
  {
   "cell_type": "markdown",
   "id": "8dc463fd",
   "metadata": {},
   "source": [
    "### Tuples\n",
    "Tupel sind im Grunde unveränderliche Listen. Die Elemente eines Tupels werden zwischen runden Klammern oder einfach durch Kommata getrennt geschrieben:"
   ]
  },
  {
   "cell_type": "code",
   "execution_count": null,
   "id": "b4353116",
   "metadata": {},
   "outputs": [],
   "source": [
    "test_tuple = (1, 'hi', 2.3)\n",
    "test_tuple = 1, 'hi', 2.3"
   ]
  },
  {
   "cell_type": "markdown",
   "id": "57c0078b",
   "metadata": {},
   "source": [
    "<div class=\"alert alert-block alert-warning\">\n",
    "  Aufgabe:  Bitte drucken Sie das zweite Element des Tupels"
   ]
  },
  {
   "cell_type": "code",
   "execution_count": null,
   "id": "aece3c49",
   "metadata": {},
   "outputs": [],
   "source": [
    "## der Index ist nullbasiert und der Zugriff funktioniert wie folgt: tuple[index]\n",
    "\n",
    "\n",
    "print('Erwartet:', 'hi')"
   ]
  },
  {
   "cell_type": "markdown",
   "id": "ca2c2307",
   "metadata": {},
   "source": [
    "<div class=\"alert alert-block alert-warning\">\n",
    "  Aufgabe:  Bitte drucken Sie das letzte Element des Tupels"
   ]
  },
  {
   "cell_type": "code",
   "execution_count": null,
   "id": "b1178db9",
   "metadata": {},
   "outputs": [],
   "source": [
    "\n",
    "\n",
    "print('Erwartet:', 2.3)"
   ]
  },
  {
   "cell_type": "code",
   "execution_count": null,
   "id": "6ad0be0f-6588-451b-ad24-0615bcae49da",
   "metadata": {},
   "outputs": [],
   "source": [
    "test_tuple[0]=2 #Warum geht das nicht?"
   ]
  },
  {
   "cell_type": "markdown",
   "id": "db9512d4",
   "metadata": {},
   "source": [
    "### Sets\n",
    "ungeordnete, einzigartige Items:"
   ]
  },
  {
   "cell_type": "code",
   "execution_count": null,
   "id": "ed8d83cb",
   "metadata": {},
   "outputs": [],
   "source": [
    "# definiere ein Set\n",
    "a = {1,2,3}\n",
    "print(a)"
   ]
  },
  {
   "cell_type": "code",
   "execution_count": null,
   "id": "d08aa44f",
   "metadata": {},
   "outputs": [],
   "source": [
    "# ein Element hinzufügen zu dem Set\n",
    "a.add(4)\n",
    "print(a)\n",
    "a.add(4)\n",
    "print(a)"
   ]
  },
  {
   "cell_type": "code",
   "execution_count": null,
   "id": "a51e4476",
   "metadata": {},
   "outputs": [],
   "source": [
    "# was zwei Sets gemeinsam haben\n",
    "a = {1,2,3}\n",
    "b = {3,4,5}\n",
    "print(a.intersection(b))"
   ]
  },
  {
   "cell_type": "code",
   "execution_count": null,
   "id": "011c1606",
   "metadata": {},
   "outputs": [],
   "source": [
    "# Was ist der Unterschied zwischen zwei Sets in Bezug auf die erste Menge a\n",
    "a = {1,2,3}\n",
    "b = {3,4,5}\n",
    "print(a.difference(b))"
   ]
  },
  {
   "cell_type": "code",
   "execution_count": null,
   "id": "5117dbcf",
   "metadata": {},
   "outputs": [],
   "source": [
    "# die einzelnen Elemente eines kombinierten Sets anzeigen\n",
    "a = {1,2,3}\n",
    "b = {3,4,5}\n",
    "c = a.union(b)\n",
    "print(c)"
   ]
  },
  {
   "cell_type": "markdown",
   "id": "06e5654d",
   "metadata": {},
   "source": [
    "### Strings\n",
    "Verschiedene String-Syntaxen (einfache, doppelte oder dreifache Anführungszeichen):"
   ]
  },
  {
   "cell_type": "code",
   "execution_count": null,
   "id": "68e73d62",
   "metadata": {},
   "outputs": [],
   "source": [
    "s = 'Hello, how are you?'\n",
    "print(s)"
   ]
  },
  {
   "cell_type": "code",
   "execution_count": null,
   "id": "c0f5427f",
   "metadata": {},
   "outputs": [],
   "source": [
    "s = \"Hi, what's up\"\n",
    "print(s)"
   ]
  },
  {
   "cell_type": "code",
   "execution_count": null,
   "id": "0912a5df",
   "metadata": {},
   "outputs": [],
   "source": [
    "s = '''Hello,\n",
    "       #how are you''' \n",
    "print(s)"
   ]
  },
  {
   "cell_type": "code",
   "execution_count": null,
   "id": "c77bcc93",
   "metadata": {},
   "outputs": [],
   "source": [
    "a = \"hello\"\n",
    "#Indexing (Indizierung)\n",
    "print(a[0])\n",
    "#Slicing (Schneiden)\n",
    "print(a[1:4])\n",
    "#  alter Schule\n",
    "print('An integer: %i; a float: %f; another string: %s' % (1, 0.1, 'string'))\n",
    "# String-Formatierung mit f-string\n",
    "f\"An integer {1}; a float {0.1}; another string: {'string'}\""
   ]
  },
  {
   "cell_type": "markdown",
   "id": "f627cbe9",
   "metadata": {},
   "source": [
    "### Dictionaries\n",
    "Ein \"Dictionary\" ist im Grunde eine effiziente Tabelle, die Schlüssel (keys) auf Werte (values) abbildet. Es ist ein ungeordneter Container"
   ]
  },
  {
   "cell_type": "code",
   "execution_count": null,
   "id": "11c9f998",
   "metadata": {},
   "outputs": [],
   "source": [
    "tel = {'emmanuelle': 5752, 'sebastian': 5578}\n",
    "print(tel)"
   ]
  },
  {
   "cell_type": "code",
   "execution_count": null,
   "id": "4c659249",
   "metadata": {},
   "outputs": [],
   "source": [
    "print(tel)\n",
    "tel['francis'] = 5915\n",
    "print(tel) "
   ]
  },
  {
   "cell_type": "code",
   "execution_count": null,
   "id": "5a5cdf94",
   "metadata": {},
   "outputs": [],
   "source": [
    "print(tel['sebastian'])"
   ]
  },
  {
   "cell_type": "code",
   "execution_count": null,
   "id": "d743a424",
   "metadata": {},
   "outputs": [],
   "source": [
    "#keys\n",
    "print(tel.keys()) "
   ]
  },
  {
   "cell_type": "code",
   "execution_count": null,
   "id": "1c8d11d3",
   "metadata": {},
   "outputs": [],
   "source": [
    "# values\n",
    "print(tel.values()) "
   ]
  },
  {
   "cell_type": "code",
   "execution_count": null,
   "id": "ae297c10",
   "metadata": {},
   "outputs": [],
   "source": [
    "print('francis' in tel)"
   ]
  },
  {
   "cell_type": "markdown",
   "id": "5974c513",
   "metadata": {},
   "source": [
    "<div class=\"alert alert-block alert-warning\">\n",
    "  Aufgabe: Erstellen Sie ein neues Wörterbuch, das Ihre 5 Lieblingsfrüchte und deren Farben enthält und drucken Sie die Farbe Ihrer Lieblingsfrucht aus. "
   ]
  },
  {
   "cell_type": "code",
   "execution_count": null,
   "id": "65d8a399",
   "metadata": {},
   "outputs": [],
   "source": []
  },
  {
   "cell_type": "markdown",
   "id": "1ab2fcfa",
   "metadata": {},
   "source": [
    "## Kontrollfluss\n",
    "Steuert die Reihenfolge, in der der Code ausgeführt wird."
   ]
  },
  {
   "cell_type": "markdown",
   "id": "27f69df5",
   "metadata": {},
   "source": [
    "### If/elif/else\n",
    "Blöcke werden durch Einrückung abgegrenzt"
   ]
  },
  {
   "cell_type": "code",
   "execution_count": null,
   "id": "34bfc851",
   "metadata": {},
   "outputs": [],
   "source": [
    "# if statement\n",
    "if 2**2 == 4:\n",
    "    print('Offensichtlich!')"
   ]
  },
  {
   "cell_type": "code",
   "execution_count": null,
   "id": "02b4e3d8",
   "metadata": {},
   "outputs": [],
   "source": [
    "# a = 2\n",
    "a = 10\n",
    "\n",
    "if a == 1:\n",
    "    print(1)\n",
    "elif a == 2:\n",
    "    print(2)\n",
    "else:\n",
    "    print('Oh so viel')"
   ]
  },
  {
   "cell_type": "markdown",
   "id": "9abf5e99",
   "metadata": {},
   "source": [
    "### for/range\n",
    "Iteration mit einem Index:"
   ]
  },
  {
   "cell_type": "code",
   "execution_count": null,
   "id": "84e2ef0e",
   "metadata": {},
   "outputs": [],
   "source": [
    "for i in range(5):\n",
    "    print(i)"
   ]
  },
  {
   "cell_type": "markdown",
   "id": "6a433635",
   "metadata": {},
   "source": [
    "Meistens ist es jedoch üblich, über Werte zu iterieren:"
   ]
  },
  {
   "cell_type": "code",
   "execution_count": null,
   "id": "51a8b292",
   "metadata": {},
   "outputs": [],
   "source": [
    "for word in ('cool', 'kraftvoll ', 'einfach'):\n",
    "    print('Python ist %s' % word)"
   ]
  },
  {
   "cell_type": "code",
   "execution_count": null,
   "id": "0f362daa",
   "metadata": {},
   "outputs": [],
   "source": [
    "# nested-loops (verschachtelte Schleifen) drucken jedes Zeichen\n",
    "\n",
    "# Erster for-loop\n",
    "for i in (\"Python\",\"ist\",\"cool\"):\n",
    "    # Zweiter for-loop\n",
    "    for k in i:\n",
    "        print(k)"
   ]
  },
  {
   "cell_type": "markdown",
   "id": "0b52e6bd",
   "metadata": {},
   "source": [
    "### while/break/continue"
   ]
  },
  {
   "cell_type": "code",
   "execution_count": null,
   "id": "416aff31",
   "metadata": {},
   "outputs": [],
   "source": [
    "z = 5\n",
    "while z < 100:\n",
    "    z = z*2 + 1\n",
    "    print(z)\n",
    "z"
   ]
  },
  {
   "cell_type": "markdown",
   "id": "6cfbb950",
   "metadata": {},
   "source": [
    "**Ausbruch aus der umschließenden for/while-Schleife:**"
   ]
  },
  {
   "cell_type": "code",
   "execution_count": null,
   "id": "a87fc504-b003-457f-8332-61cc68f69254",
   "metadata": {},
   "outputs": [],
   "source": [
    "z = [[1,3,5,7,6,0],[1,4,5,7,6,5],[1,4,3,3,3,4]]\n",
    "print(len(z))\n",
    "print(len(z[0]))"
   ]
  },
  {
   "cell_type": "code",
   "execution_count": null,
   "id": "0febae46",
   "metadata": {},
   "outputs": [],
   "source": [
    "z = [[1,3,5,7,6,0],[1,4,5,7,6,5],[1,4,3,3,3,4]]\n",
    "\n",
    "# Erster for-loop\n",
    "for i in range(len(z)):\n",
    "    print(z[i])\n",
    "    \n",
    "    # Zweiter for-loop\n",
    "    for k in z[i]:\n",
    "        \n",
    "        #if condition\n",
    "        if k == 5:\n",
    "            break #Stoppt den zweiten for-loop\n",
    "        print(k)"
   ]
  },
  {
   "cell_type": "markdown",
   "id": "482bcb39",
   "metadata": {},
   "source": [
    "**Die nächste Iteration einer Schleife fortsetzen:**"
   ]
  },
  {
   "cell_type": "code",
   "execution_count": null,
   "id": "1e590a3c",
   "metadata": {},
   "outputs": [],
   "source": [
    "z = [[1,3,5,7,6,0],[1,4,5,7,6,5],[1,4,3,3,3,4]]\n",
    "\n",
    "# Erster for-loop\n",
    "for i in range(len(z)):\n",
    "    print(z[i])\n",
    "    \n",
    "    # Zweiter for-loop\n",
    "    for k in z[i]:\n",
    "        \n",
    "        #if condition\n",
    "        if k == 5:\n",
    "            continue # mit der nächsten Interaktion der zweiten for-Loop fortfahren\n",
    "        print(k)"
   ]
  },
  {
   "cell_type": "code",
   "execution_count": null,
   "id": "180dc1f3",
   "metadata": {},
   "outputs": [],
   "source": [
    "a = [1, 0, 2, 4]\n",
    "for element in a:\n",
    "    if element == 0:\n",
    "        continue\n",
    "    print(1. / element)"
   ]
  },
  {
   "cell_type": "markdown",
   "id": "0883bfdf",
   "metadata": {},
   "source": [
    "<div class=\"alert alert-block alert-warning\">\n",
    "Aufgabe: Erstelle eine Liste C, die abwechselnd die Einträge der beiden Listen A und B enthält. Erster Eintrag aus Liste A"
   ]
  },
  {
   "cell_type": "code",
   "execution_count": null,
   "id": "2ef1f7e2",
   "metadata": {},
   "outputs": [],
   "source": [
    "A = [1,3,5,7,9]\n",
    "B = [2,4,6,8]\n",
    "C = []"
   ]
  },
  {
   "cell_type": "code",
   "execution_count": null,
   "id": "f56cb06b",
   "metadata": {},
   "outputs": [],
   "source": []
  },
  {
   "cell_type": "markdown",
   "id": "a2593dcf",
   "metadata": {},
   "source": [
    "<div class=\"alert alert-block alert-warning\">\n",
    "Aufgabe: Ermitteln Sie mit Hilfe einer for-Schleife und einer if-Bedingung, welche Vokale (Vokale) in dem Wort powerfull enthalten sind und drucken Sie diese aus."
   ]
  },
  {
   "cell_type": "code",
   "execution_count": null,
   "id": "db9f6eef",
   "metadata": {},
   "outputs": [],
   "source": [
    "string_1 = 'powerfull'\n",
    "string_2 = 'aeiou'\n"
   ]
  },
  {
   "cell_type": "markdown",
   "id": "c925106c",
   "metadata": {},
   "source": [
    "## Functions\n",
    "- Eine Funktion ist ein Codeblock, der nur ausgeführt wird, wenn er aufgerufen wird.\n",
    "\n",
    "\n",
    "- Sie können Daten, sogenannte Parameter, an eine Funktion übergeben.\n",
    "\n",
    "\n",
    "- Eine Funktion kann Daten als Ergebnis zurückgeben."
   ]
  },
  {
   "cell_type": "code",
   "execution_count": null,
   "id": "3e22883b",
   "metadata": {},
   "outputs": [],
   "source": [
    "#die Funktion definieren\n",
    "def test():\n",
    "     print('This is a test function')\n",
    "\n",
    "#die Funktion aufrufen  \n",
    "test()"
   ]
  },
  {
   "cell_type": "markdown",
   "id": "f9618412",
   "metadata": {},
   "source": [
    "### Return statement"
   ]
  },
  {
   "cell_type": "code",
   "execution_count": null,
   "id": "4451e64f",
   "metadata": {},
   "outputs": [],
   "source": [
    "#Funktion mit einem obligatorischen Parameter definieren\n",
    "def disk_area(radius):\n",
    "    \n",
    "    #return-Anweisung definiert die Ausgabe der Funktion\n",
    "    return 3.14 * radius **2\n",
    "    #return print(\"Hoho\")\n",
    "#Aufruf der Funktion mit einem bestimmten Parameter\n",
    "disk_area(1.5)"
   ]
  },
  {
   "cell_type": "markdown",
   "id": "81217791",
   "metadata": {},
   "source": [
    "### Parameters"
   ]
  },
  {
   "cell_type": "code",
   "execution_count": null,
   "id": "b19dfa2a",
   "metadata": {},
   "outputs": [],
   "source": [
    "#Funktion mit einem Standardparameter definieren\n",
    "def double_it(x=2):\n",
    "     return x ** 2\n",
    "\n",
    "print(double_it())\n",
    "print(double_it(2))\n",
    "print(double_it(3))"
   ]
  },
  {
   "cell_type": "markdown",
   "id": "98510d6b",
   "metadata": {},
   "source": [
    "<div class=\"alert alert-block alert-warning\">\n",
    "Aufgabe: Erstellen Sie eine Funktion, die der Funktion len() entspricht und die Länge einer Zeichenkette ermittelt. Soll beim Aufruf der Funktion kein Parameter gesetzt werden, so soll die Länge der Zeichenkette 'Hello World' ermittelt werden."
   ]
  },
  {
   "cell_type": "code",
   "execution_count": null,
   "id": "b72e8d22",
   "metadata": {},
   "outputs": [],
   "source": [
    "\n",
    "## die Methode wird von der Funktion count_characters aufgerufen\n",
    "print(count_characters('test'))\n",
    "print(count_characters())"
   ]
  },
  {
   "cell_type": "markdown",
   "id": "d178de9f",
   "metadata": {},
   "source": [
    "<div class=\"alert alert-block alert-warning\">\n",
    "Aufgabe: Erstellen Sie eine eigene Funktion, die alle Wochentage und die Länge der einzelnen Tage ausgibt"
   ]
  },
  {
   "cell_type": "code",
   "execution_count": null,
   "id": "0e513a23",
   "metadata": {},
   "outputs": [],
   "source": [
    "days_of_the_week = ['monday',\n",
    "                    'tuesday',\n",
    "                    'wednesday',\n",
    "                    'thursday',\n",
    "                    'friday',\n",
    "                    'saturday',\n",
    "                    'sunday']"
   ]
  }
 ],
 "metadata": {
  "kernelspec": {
   "display_name": "Python 3 (ipykernel)",
   "language": "python",
   "name": "python3"
  },
  "language_info": {
   "codemirror_mode": {
    "name": "ipython",
    "version": 3
   },
   "file_extension": ".py",
   "mimetype": "text/x-python",
   "name": "python",
   "nbconvert_exporter": "python",
   "pygments_lexer": "ipython3",
   "version": "3.9.12"
  },
  "toc": {
   "base_numbering": 1,
   "nav_menu": {
    "height": "112px",
    "width": "256px"
   },
   "number_sections": true,
   "sideBar": true,
   "skip_h1_title": false,
   "title_cell": "Table of Contents",
   "title_sidebar": "Contents",
   "toc_cell": false,
   "toc_position": {
    "height": "calc(100% - 180px)",
    "left": "10px",
    "top": "150px",
    "width": "302px"
   },
   "toc_section_display": true,
   "toc_window_display": true
  }
 },
 "nbformat": 4,
 "nbformat_minor": 5
}
